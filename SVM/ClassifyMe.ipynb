{
 "cells": [
  {
   "cell_type": "code",
   "execution_count": 35,
   "id": "37a3ec5d-8bd2-421b-8a6d-def30f6f30af",
   "metadata": {},
   "outputs": [],
   "source": [
    "import pandas as pd\n",
    "import numpy as np\n",
    "from sklearn.model_selection import train_test_split\n",
    "from sklearn.preprocessing import StandardScaler\n",
    "from sklearn.ensemble import RandomForestClassifier\n",
    "from sklearn.metrics import accuracy_score\n",
    "import matplotlib.pyplot as plt\n",
    "import joblib"
   ]
  },
  {
   "cell_type": "code",
   "execution_count": 36,
   "id": "2c4f1e74-3c63-411a-bb5d-91a2bd429e80",
   "metadata": {},
   "outputs": [],
   "source": [
    "from sklearn.svm import SVC"
   ]
  },
  {
   "cell_type": "code",
   "execution_count": 2,
   "id": "f1fd2574-3860-4ece-8d52-7a1a3a02a855",
   "metadata": {},
   "outputs": [],
   "source": [
    "from sklearn.model_selection import GridSearchCV"
   ]
  },
  {
   "cell_type": "code",
   "execution_count": 37,
   "id": "ceaefb8d-5470-436b-9083-f6696492c6cd",
   "metadata": {},
   "outputs": [],
   "source": [
    "train_df = pd.read_csv('C:/Users/hp/Downloads/train.csv')\n"
   ]
  },
  {
   "cell_type": "code",
   "execution_count": 38,
   "id": "98b33aae-915e-4367-be92-6f01c49fa190",
   "metadata": {},
   "outputs": [
    {
     "data": {
      "text/plain": [
       "Embeddings    0\n",
       "Labels        0\n",
       "dtype: int64"
      ]
     },
     "execution_count": 38,
     "metadata": {},
     "output_type": "execute_result"
    }
   ],
   "source": [
    "train_df.isnull().sum()"
   ]
  },
  {
   "cell_type": "code",
   "execution_count": 39,
   "id": "7e25e4d4-7b57-4689-bf44-2159995e5680",
   "metadata": {},
   "outputs": [
    {
     "data": {
      "text/html": [
       "<div>\n",
       "<style scoped>\n",
       "    .dataframe tbody tr th:only-of-type {\n",
       "        vertical-align: middle;\n",
       "    }\n",
       "\n",
       "    .dataframe tbody tr th {\n",
       "        vertical-align: top;\n",
       "    }\n",
       "\n",
       "    .dataframe thead th {\n",
       "        text-align: right;\n",
       "    }\n",
       "</style>\n",
       "<table border=\"1\" class=\"dataframe\">\n",
       "  <thead>\n",
       "    <tr style=\"text-align: right;\">\n",
       "      <th></th>\n",
       "      <th>Embeddings</th>\n",
       "      <th>Labels</th>\n",
       "    </tr>\n",
       "  </thead>\n",
       "  <tbody>\n",
       "    <tr>\n",
       "      <th>0</th>\n",
       "      <td>[0.5469580863489887, 0.4764355187703884, 0.429...</td>\n",
       "      <td>1</td>\n",
       "    </tr>\n",
       "    <tr>\n",
       "      <th>1</th>\n",
       "      <td>[0.4557014388234454, 0.42140761348218225, 0.39...</td>\n",
       "      <td>1</td>\n",
       "    </tr>\n",
       "    <tr>\n",
       "      <th>2</th>\n",
       "      <td>[0.5709403438092233, 0.37141592889673375, 0.45...</td>\n",
       "      <td>0</td>\n",
       "    </tr>\n",
       "    <tr>\n",
       "      <th>3</th>\n",
       "      <td>[0.5157037219388774, 0.5018736842637056, 0.463...</td>\n",
       "      <td>1</td>\n",
       "    </tr>\n",
       "    <tr>\n",
       "      <th>4</th>\n",
       "      <td>[0.46181101920528106, 0.37636353034704323, 0.5...</td>\n",
       "      <td>1</td>\n",
       "    </tr>\n",
       "  </tbody>\n",
       "</table>\n",
       "</div>"
      ],
      "text/plain": [
       "                                          Embeddings  Labels\n",
       "0  [0.5469580863489887, 0.4764355187703884, 0.429...       1\n",
       "1  [0.4557014388234454, 0.42140761348218225, 0.39...       1\n",
       "2  [0.5709403438092233, 0.37141592889673375, 0.45...       0\n",
       "3  [0.5157037219388774, 0.5018736842637056, 0.463...       1\n",
       "4  [0.46181101920528106, 0.37636353034704323, 0.5...       1"
      ]
     },
     "execution_count": 39,
     "metadata": {},
     "output_type": "execute_result"
    }
   ],
   "source": [
    "valid_df = pd.read_csv('C:/Users/hp/Downloads/validation.csv')\n",
    "valid_df.head()"
   ]
  },
  {
   "cell_type": "code",
   "execution_count": 6,
   "id": "dece1a8e-0a17-4ad2-b9db-235c5bec423f",
   "metadata": {},
   "outputs": [
    {
     "data": {
      "text/html": [
       "<div>\n",
       "<style scoped>\n",
       "    .dataframe tbody tr th:only-of-type {\n",
       "        vertical-align: middle;\n",
       "    }\n",
       "\n",
       "    .dataframe tbody tr th {\n",
       "        vertical-align: top;\n",
       "    }\n",
       "\n",
       "    .dataframe thead th {\n",
       "        text-align: right;\n",
       "    }\n",
       "</style>\n",
       "<table border=\"1\" class=\"dataframe\">\n",
       "  <thead>\n",
       "    <tr style=\"text-align: right;\">\n",
       "      <th></th>\n",
       "      <th>Embeddings</th>\n",
       "    </tr>\n",
       "  </thead>\n",
       "  <tbody>\n",
       "    <tr>\n",
       "      <th>0</th>\n",
       "      <td>[0.3337063161257903, 0.5192625182470981, 0.484...</td>\n",
       "    </tr>\n",
       "    <tr>\n",
       "      <th>1</th>\n",
       "      <td>[0.5360962959480485, 0.6644046340186954, 0.537...</td>\n",
       "    </tr>\n",
       "    <tr>\n",
       "      <th>2</th>\n",
       "      <td>[0.5753105821255707, 0.41494639938382866, 0.41...</td>\n",
       "    </tr>\n",
       "    <tr>\n",
       "      <th>3</th>\n",
       "      <td>[0.3998871034260141, 0.4398297367391118, 0.447...</td>\n",
       "    </tr>\n",
       "    <tr>\n",
       "      <th>4</th>\n",
       "      <td>[0.4351530915561264, 0.5057971600970778, 0.584...</td>\n",
       "    </tr>\n",
       "  </tbody>\n",
       "</table>\n",
       "</div>"
      ],
      "text/plain": [
       "                                          Embeddings\n",
       "0  [0.3337063161257903, 0.5192625182470981, 0.484...\n",
       "1  [0.5360962959480485, 0.6644046340186954, 0.537...\n",
       "2  [0.5753105821255707, 0.41494639938382866, 0.41...\n",
       "3  [0.3998871034260141, 0.4398297367391118, 0.447...\n",
       "4  [0.4351530915561264, 0.5057971600970778, 0.584..."
      ]
     },
     "execution_count": 6,
     "metadata": {},
     "output_type": "execute_result"
    }
   ],
   "source": [
    "test_df = pd.read_csv('C:/Users/hp/Downloads/test.csv')\n",
    "test_df.head()"
   ]
  },
  {
   "cell_type": "code",
   "execution_count": 61,
   "id": "7551de58-f4a3-429a-8ec3-d2198eab54e6",
   "metadata": {},
   "outputs": [],
   "source": [
    "def convert_string_to_array(s):\n",
    "    s = s.replace('\\x00', '0')  # Remove null bytes\n",
    "    try:\n",
    "        return np.array(eval(s))\n",
    "    except Exception as e:\n",
    "        print(f\"Error parsing string: {s}. Error: {e}\")\n",
    "        return np.zeros(768)  # Return None if parsing fails"
   ]
  },
  {
   "cell_type": "code",
   "execution_count": 62,
   "id": "78c4eaab-6d15-46ac-ad70-d120392b6bf6",
   "metadata": {},
   "outputs": [
    {
     "data": {
      "text/plain": [
       "['F:/summary-model/scaler.pkl']"
      ]
     },
     "execution_count": 62,
     "metadata": {},
     "output_type": "execute_result"
    }
   ],
   "source": [
    "X_train = np.array([convert_string_to_array(row) for row in train_df.iloc[:, :-1].values.flatten()])\n",
    "y_train = train_df.iloc[:, -1].astype(float).values\n",
    "X_valid = np.array([convert_string_to_array(row) for row in valid_df.iloc[:, :-1].values.flatten()])\n",
    "y_valid = valid_df.iloc[:, -1].astype(float).values\n",
    "X_test = np.array([convert_string_to_array(row) for row in test_df.values.flatten()])\n",
    "\n",
    "# Normalize features\n",
    "scaler = StandardScaler()\n",
    "X_train = scaler.fit_transform(X_train)\n",
    "X_valid = scaler.transform(X_valid)\n",
    "X_test = scaler.transform(X_test)\n",
    "\n",
    "#save the scaler\n",
    "joblib.dump(scaler, 'F:/summary-model/scaler.pkl')"
   ]
  },
  {
   "cell_type": "code",
   "execution_count": 63,
   "id": "60d6c260-a29b-427a-938d-dcf75cea0db1",
   "metadata": {},
   "outputs": [],
   "source": [
    "from sklearn.model_selection import cross_val_score"
   ]
  },
  {
   "cell_type": "code",
   "execution_count": 82,
   "id": "4c704572-6a02-4e5c-b619-6c83c76fe725",
   "metadata": {},
   "outputs": [
    {
     "name": "stdout",
     "output_type": "stream",
     "text": [
      "Cross-validation scores: [0.61122575 0.59925712 0.61246389 0.61782914 0.61932287]\n",
      "Mean cross-validation score: 0.6120197542611356\n"
     ]
    }
   ],
   "source": [
    "svm_clf = SVC(C=1.0, kernel='rbf', gamma='scale')\n",
    "\n",
    "# Evaluate the model using cross-validation\n",
    "cv_scores = cross_val_score(svm_clf, X_train, y_train, cv=5)\n",
    "print(f\"Cross-validation scores: {cv_scores}\")\n",
    "print(f\"Mean cross-validation score: {cv_scores.mean()}\")"
   ]
  },
  {
   "cell_type": "code",
   "execution_count": 83,
   "id": "b57aa2cf-bfaf-4842-803d-03b2abb78b18",
   "metadata": {},
   "outputs": [
    {
     "data": {
      "text/plain": [
       "['F:/summary-model/svm_model.pkl']"
      ]
     },
     "execution_count": 83,
     "metadata": {},
     "output_type": "execute_result"
    }
   ],
   "source": [
    "svm_clf.fit(X_train, y_train)\n",
    "joblib.dump(svm_clf, 'F:/summary-model/svm_model.pkl')"
   ]
  },
  {
   "cell_type": "code",
   "execution_count": 81,
   "id": "8a270ec6-1f4a-439d-9189-032f94e4dac3",
   "metadata": {},
   "outputs": [
    {
     "name": "stdout",
     "output_type": "stream",
     "text": [
      "SVM Train Accuracy: 0.9248803037807496\n",
      "SVM Validation Accuracy: 0.6173333333333333\n"
     ]
    }
   ],
   "source": [
    "train_accuracy = accuracy_score(y_train, svm_clf.predict(X_train))\n",
    "valid_accuracy = accuracy_score(y_valid, svm_clf.predict(X_valid))\n",
    "\n",
    "print(f'SVM Train Accuracy: {train_accuracy}')\n",
    "print(f'SVM Validation Accuracy: {valid_accuracy}')"
   ]
  },
  {
   "cell_type": "code",
   "execution_count": 67,
   "id": "536344a4-c3f1-4448-aceb-5edbecfd01b1",
   "metadata": {},
   "outputs": [],
   "source": [
    "test_predictions = svm_clf.predict(X_test)\n",
    "\n",
    "# Save predictions to a CSV file\n",
    "output_df = pd.DataFrame(test_predictions)\n",
    "new_df=test_df.merge(output_df,left_index=True,right_index=True\n",
    ")\n",
    "new_df.columns=['Embedded','Labels']\n",
    "new_df.to_csv('F:/summary-model/test_predictions.csv',index=False)"
   ]
  },
  {
   "cell_type": "code",
   "execution_count": 73,
   "id": "af83001b-8534-4614-9b6f-4f819d9c7a70",
   "metadata": {},
   "outputs": [
    {
     "data": {
      "text/html": [
       "<div>\n",
       "<style scoped>\n",
       "    .dataframe tbody tr th:only-of-type {\n",
       "        vertical-align: middle;\n",
       "    }\n",
       "\n",
       "    .dataframe tbody tr th {\n",
       "        vertical-align: top;\n",
       "    }\n",
       "\n",
       "    .dataframe thead th {\n",
       "        text-align: right;\n",
       "    }\n",
       "</style>\n",
       "<table border=\"1\" class=\"dataframe\">\n",
       "  <thead>\n",
       "    <tr style=\"text-align: right;\">\n",
       "      <th></th>\n",
       "      <th>Embedded</th>\n",
       "      <th>Labels</th>\n",
       "    </tr>\n",
       "  </thead>\n",
       "  <tbody>\n",
       "    <tr>\n",
       "      <th>0</th>\n",
       "      <td>[0.3337063161257903, 0.5192625182470981, 0.484...</td>\n",
       "      <td>-1.0</td>\n",
       "    </tr>\n",
       "    <tr>\n",
       "      <th>1</th>\n",
       "      <td>[0.5360962959480485, 0.6644046340186954, 0.537...</td>\n",
       "      <td>-1.0</td>\n",
       "    </tr>\n",
       "    <tr>\n",
       "      <th>2</th>\n",
       "      <td>[0.5753105821255707, 0.41494639938382866, 0.41...</td>\n",
       "      <td>0.0</td>\n",
       "    </tr>\n",
       "    <tr>\n",
       "      <th>3</th>\n",
       "      <td>[0.3998871034260141, 0.4398297367391118, 0.447...</td>\n",
       "      <td>1.0</td>\n",
       "    </tr>\n",
       "    <tr>\n",
       "      <th>4</th>\n",
       "      <td>[0.4351530915561264, 0.5057971600970778, 0.584...</td>\n",
       "      <td>1.0</td>\n",
       "    </tr>\n",
       "  </tbody>\n",
       "</table>\n",
       "</div>"
      ],
      "text/plain": [
       "                                            Embedded  Labels\n",
       "0  [0.3337063161257903, 0.5192625182470981, 0.484...    -1.0\n",
       "1  [0.5360962959480485, 0.6644046340186954, 0.537...    -1.0\n",
       "2  [0.5753105821255707, 0.41494639938382866, 0.41...     0.0\n",
       "3  [0.3998871034260141, 0.4398297367391118, 0.447...     1.0\n",
       "4  [0.4351530915561264, 0.5057971600970778, 0.584...     1.0"
      ]
     },
     "execution_count": 73,
     "metadata": {},
     "output_type": "execute_result"
    }
   ],
   "source": [
    "test_data=pd.read_csv('F:/summary-model/test_predictions.csv')\n",
    "test_data.head()"
   ]
  },
  {
   "cell_type": "code",
   "execution_count": null,
   "id": "b877cfe0-1817-4ccc-aced-29f2633e3c9e",
   "metadata": {},
   "outputs": [],
   "source": []
  }
 ],
 "metadata": {
  "kernelspec": {
   "display_name": "Python 3 (ipykernel)",
   "language": "python",
   "name": "python3"
  },
  "language_info": {
   "codemirror_mode": {
    "name": "ipython",
    "version": 3
   },
   "file_extension": ".py",
   "mimetype": "text/x-python",
   "name": "python",
   "nbconvert_exporter": "python",
   "pygments_lexer": "ipython3",
   "version": "3.12.1"
  }
 },
 "nbformat": 4,
 "nbformat_minor": 5
}
